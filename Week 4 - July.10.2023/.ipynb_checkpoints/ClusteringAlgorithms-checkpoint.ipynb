{
 "cells": [
  {
   "cell_type": "markdown",
   "id": "a6d54104",
   "metadata": {},
   "source": [
    "# Clustering Algorithms"
   ]
  },
  {
   "cell_type": "markdown",
   "id": "c8022df7",
   "metadata": {},
   "source": [
    "Hello,\n",
    "\n",
    "In this week's problem, we will be working on clustering algorithms. There are many different clustering algorithms that exist, but we will focus on the most commonly used ones. Those are K-means clustering, hierarchical clustering, and DBSCAN clustering."
   ]
  },
  {
   "cell_type": "markdown",
   "id": "e033ae55",
   "metadata": {},
   "source": [
    "I have added in the imports for you. You shouldn't need any more imports than these provided."
   ]
  },
  {
   "cell_type": "code",
   "execution_count": 1,
   "id": "78423b07",
   "metadata": {},
   "outputs": [],
   "source": [
    "from sklearn import datasets\n",
    "from sklearn.cluster import KMeans, AgglomerativeClustering, DBSCAN\n",
    "from scipy.cluster.hierarchy import dendrogram, linkage\n",
    "import matplotlib.pyplot as plt\n",
    "import numpy as np\n",
    "import pandas as pd"
   ]
  },
  {
   "cell_type": "markdown",
   "id": "db7a0645",
   "metadata": {},
   "source": [
    "In this problem, we will use the iris dataset. Use pandas to import in the dataset, and print out the first couple lines to verify it exists. For all of these, I am only comparing the first two data columns in iris, the sepal length and sepal width, but you can choose which columns to compare, but your results will differ from mine. "
   ]
  },
  {
   "cell_type": "code",
   "execution_count": 2,
   "id": "81175289",
   "metadata": {},
   "outputs": [],
   "source": [
    "# Your Code Here\n",
    "\n"
   ]
  },
  {
   "cell_type": "markdown",
   "id": "42f85602",
   "metadata": {},
   "source": [
    "We will first use K-means clustering. Choose an appropriate value of clusters and plot your results."
   ]
  },
  {
   "cell_type": "code",
   "execution_count": 3,
   "id": "ada1b372",
   "metadata": {},
   "outputs": [],
   "source": [
    "# Your Code Here\n",
    "\n"
   ]
  },
  {
   "cell_type": "markdown",
   "id": "b768ff2c",
   "metadata": {},
   "source": [
    "Next, we will move on to hierarchical clustering. First, plot it as a dendrogram. Next, choose an appropriate number of clusters and plot the results in a scatterplot. The scatterplot will typically use agglomerative clustering, a subset of hierarchical clustering."
   ]
  },
  {
   "cell_type": "code",
   "execution_count": 4,
   "id": "d5c53835",
   "metadata": {},
   "outputs": [],
   "source": [
    "# Your Code Here\n",
    "\n"
   ]
  },
  {
   "cell_type": "markdown",
   "id": "c011b3a4",
   "metadata": {},
   "source": [
    "The last type of clustering we will look at is DBSCAN. Choose an appropriate eps and minimum sample value and plot the results in a scatterplot. "
   ]
  },
  {
   "cell_type": "code",
   "execution_count": 5,
   "id": "ac50f086",
   "metadata": {},
   "outputs": [],
   "source": [
    "# Your Code Here\n",
    "\n"
   ]
  }
 ],
 "metadata": {
  "kernelspec": {
   "display_name": "Python 3 (ipykernel)",
   "language": "python",
   "name": "python3"
  },
  "language_info": {
   "codemirror_mode": {
    "name": "ipython",
    "version": 3
   },
   "file_extension": ".py",
   "mimetype": "text/x-python",
   "name": "python",
   "nbconvert_exporter": "python",
   "pygments_lexer": "ipython3",
   "version": "3.9.12"
  }
 },
 "nbformat": 4,
 "nbformat_minor": 5
}
